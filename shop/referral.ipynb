{
 "cells": [
  {
   "cell_type": "code",
   "execution_count": null,
   "metadata": {},
   "outputs": [],
   "source": [
    "# 70% to be divided\n",
    "\n",
    "from shop.models import User1"
   ]
  },
  {
   "cell_type": "code",
   "execution_count": null,
   "metadata": {},
   "outputs": [],
   "source": [
    "def refer(request):\n",
    "    bot_price=5000\n",
    "    person_a=20\n",
    "    person_b=20\n",
    "    person_c=15\n",
    "    person_d=10\n",
    "    person_e=5\n",
    "\n",
    "    current_user=request.user\n",
    "    actual_user=User1.objects.get(username=current_user)\n",
    "    refer_1=actual_user.another_referral\n",
    "\n",
    "    if refer_1=='NONE':\n",
    "        return redirect('index')\n",
    "\n",
    "    refer_1_object=User1.objects.get(username=refer_1)\n",
    "    refer_1_object.credit+=person_a*bot_price/100\n",
    "    refer_1_object.save()\n",
    "\n",
    "# 55555555555555555\n",
    "    refer_2=refer_1_object.another_referral\n",
    "\n",
    "    if refer_2=='NONE':\n",
    "        return redirect('index')\n",
    "    refer_2_object=User1.objects.get(username=refer_2)\n",
    "    refer_2_object.credit+=person_b*bot_price/100\n",
    "    refer_2_object.save()\n",
    "\n",
    "\n",
    "\n",
    "\n",
    "#    nnnnnn \n",
    "    refer_3=refer_2_object.another_referral\n",
    "\n",
    "    if refer_3=='NONE':\n",
    "        return redirect('index')\n",
    "    refer_3_object=User1.objects.get(username=refer_3)\n",
    "    refer_3_object.credit+=person_c*bot_price/100\n",
    "    refer_3_object.save()\n",
    "\n",
    "\n",
    "    refer_4=refer_3_object.another_referral\n",
    "# nnnnnnnnnnnnnn\n",
    "\n",
    "\n",
    "\n",
    "\n",
    "    if refer_4=='NONE':\n",
    "        return redirect('index')\n",
    "    refer_4_object=User1.objects.get(username=refer_4)\n",
    "    refer_4_object.credit+=person_d*bot_price/100\n",
    "    refer_4_object.save()\n",
    "\n",
    "\n",
    "\n",
    "# mnmmmmmmmmmmmm\n",
    "\n",
    "    refer_5=refer_4_object.another_referral\n",
    "\n",
    "    if refer_5=='NONE':\n",
    "        return redirect('index')\n",
    "    refer_5_object=User1.objects.get(username=refer_5)\n",
    "    refer_5_object.credit+=person_e*bot_price/100\n",
    "    refer_5_object.save()\n",
    "\n",
    "    return redirect('index')\n"
   ]
  }
 ],
 "metadata": {
  "kernelspec": {
   "display_name": "Python 3.9.5 64-bit",
   "name": "python395jvsc74a57bd0aee8b7b246df8f9039afb4144a1f6fd8d2ca17a180786b69acc140d282b71a49"
  },
  "language_info": {
   "codemirror_mode": {
    "name": "ipython",
    "version": 3
   },
   "file_extension": ".py",
   "mimetype": "text/x-python",
   "name": "python",
   "nbconvert_exporter": "python",
   "pygments_lexer": "ipython3",
   "version": "3.9.5"
  },
  "metadata": {
   "interpreter": {
    "hash": "aee8b7b246df8f9039afb4144a1f6fd8d2ca17a180786b69acc140d282b71a49"
   }
  },
  "orig_nbformat": 2
 },
 "nbformat": 4,
 "nbformat_minor": 2
}