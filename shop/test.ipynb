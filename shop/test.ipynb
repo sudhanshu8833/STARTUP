{
 "cells": [
  {
   "cell_type": "code",
   "execution_count": null,
   "metadata": {},
   "outputs": [],
   "source": [
    "import random\n",
    "import string\n",
    "\n",
    "def random_string_generator(str_size, allowed_chars):\n",
    "    return ''.join(random.choice(allowed_chars) for x in range(str_size))\n",
    "\n",
    "chars = string.ascii_letters\n",
    "size = 20\n",
    "\n",
    "print(chars)\n",
    "print('Random String of length 12 =', random_string_generator(size, chars))"
   ]
  },
  {
   "cell_type": "code",
   "execution_count": 70,
   "metadata": {},
   "outputs": [],
   "source": [
    "# %%\n",
    "# importing the threading module\n",
    "\n",
    "\n",
    "from datetime import date\n",
    "import pandas as pd\n",
    "import time\n",
    "import sys\n",
    "# local modules\n",
    "\n",
    "from binance.client import Client\n",
    "from binance.enums import *\n",
    "\n",
    "\n",
    "# local file\n",
    "import traceback\n",
    "import secrets\n",
    "import json\n",
    "import yfinance as yf\n",
    "import numpy as np\n",
    "import datetime as dt\n",
    "import requests\n",
    "import json\n",
    "import pandas as pd\n",
    "import numpy as np\n",
    "import requests\n",
    "import time\n",
    "import urllib\n",
    "from finta import TA\n",
    "from multiprocessing import Process\n",
    "from binance.client import BaseClient\n",
    "import threading\n",
    "import telepot\n",
    "import pandas as pd\n",
    "# bot = telepot.Bot('5256743653:AAHnVNtqlKGAdOm5FeV7wQHLSP6A8W4F3Xc')\n",
    "# bot.getMe()\n",
    "\n",
    "BaseClient.FUTURES_TESTNET_URL = 'https://fapi.binance.{}/fapi'\n",
    "BaseClient.FUTURES_URL = 'https://testnet.binancefuture.com/fapi'\n",
    "\n",
    "client = Client(\"cc9feab03d1264ed67c07738cdd42502dd80a8b67fedaf2e5f9b6e9c55a2faad\",\n",
    "                \"e30d3db72358639f29b6280bf1c54fd564e7b1eb5cb13f020739fd197f396e1b\")  # sudhanshu real api\n",
    "\n"
   ]
  },
  {
   "cell_type": "code",
   "execution_count": null,
   "metadata": {},
   "outputs": [],
   "source": [
    "with open(\"./helpful_scripts/keys.json\") as json_data_file:\n",
    "    data3 = json.load(json_data_file)  "
   ]
  },
  {
   "cell_type": "code",
   "execution_count": null,
   "metadata": {},
   "outputs": [],
   "source": [
    "info = client.futures_exchange_info()"
   ]
  },
  {
   "cell_type": "code",
   "execution_count": null,
   "metadata": {},
   "outputs": [],
   "source": [
    "info"
   ]
  },
  {
   "cell_type": "code",
   "execution_count": 75,
   "metadata": {},
   "outputs": [],
   "source": [
    "order1 = client.futures_create_order(\n",
    "            symbol='BTCUSDT',\n",
    "            side=\"SELL\",\n",
    "            type=\"LIMIT\",\n",
    "            price=\"20000\",\n",
    "            timeInForce=\"gtc\",\n",
    "            quantity=.001)"
   ]
  },
  {
   "cell_type": "code",
   "execution_count": 76,
   "metadata": {},
   "outputs": [
    {
     "data": {
      "text/plain": "{'orderId': 3054501329,\n 'symbol': 'BTCUSDT',\n 'status': 'NEW',\n 'clientOrderId': 'gl9IWmPFynJrHvcblIG48w',\n 'price': '20000',\n 'avgPrice': '0.00000',\n 'origQty': '0.001',\n 'executedQty': '0',\n 'cumQty': '0',\n 'cumQuote': '0',\n 'timeInForce': 'GTC',\n 'type': 'LIMIT',\n 'reduceOnly': False,\n 'closePosition': False,\n 'side': 'SELL',\n 'positionSide': 'BOTH',\n 'stopPrice': '0',\n 'workingType': 'CONTRACT_PRICE',\n 'priceProtect': False,\n 'origType': 'LIMIT',\n 'updateTime': 1656853703493}"
     },
     "execution_count": 76,
     "metadata": {},
     "output_type": "execute_result"
    }
   ],
   "source": [
    "order1"
   ]
  },
  {
   "cell_type": "code",
   "execution_count": null,
   "metadata": {},
   "outputs": [],
   "source": [
    "client=str(client)"
   ]
  },
  {
   "cell_type": "code",
   "execution_count": null,
   "metadata": {},
   "outputs": [],
   "source": [
    "client"
   ]
  },
  {
   "cell_type": "code",
   "execution_count": null,
   "metadata": {},
   "outputs": [],
   "source": [
    "json.loads(client)"
   ]
  },
  {
   "cell_type": "code",
   "execution_count": null,
   "metadata": {},
   "outputs": [],
   "source": [
    "import json\n",
    "from flask import Flask, request\n",
    "import requests\n",
    "\n",
    "# client = Client(api_key=config.API_KEY, api_secret=config.API_SECRET)\n",
    "\n",
    "app = Flask(__name__)\n",
    "WEBHOOK_PASSPHRASE = \"2#__j7y/PZMC6_z9hsdfkdjsh&*(&8IV#VQ(VcUr-#T9Vpl74&gt;FO_\"\n",
    "\n",
    "API_KEY = 'PKND7V2YBIZTK9L6A5N8'\n",
    "SECRET_KEY = 'Mx6mYNPbcKChbAA2nk1JWTl3NJUfiMKWk7ouK0jw'\n",
    "BASE_URL = \"https://paper-api.alpaca.markets\"\n",
    "\n",
    "# BASE_URL = \"https://app.alpaca.markets\"\n",
    "\n",
    "ORDERS_URL = \"{}/v2/orders\".format(BASE_URL)\n",
    "HEADERS = {'APCA-API-KEY-ID': API_KEY, 'APCA-API-SECRET-KEY': SECRET_KEY}"
   ]
  },
  {
   "cell_type": "code",
   "execution_count": 77,
   "metadata": {},
   "outputs": [
    {
     "name": "stdout",
     "output_type": "stream",
     "text": [
      "{'symbol': 'AAPL', 'qty': 1, 'side': 'sell', 'type': 'limit', 'time_in_force': 'gtc', 'order_class': 'simple', 'limit_price': '20'}\n"
     ]
    }
   ],
   "source": [
    "data = {\n",
    "\"symbol\": \"AAPL\",\n",
    "\"qty\": int(1),\n",
    "\"side\": \"sell\",\n",
    "\"type\": \"limit\",\n",
    "\"time_in_force\": \"gtc\",\n",
    "\"order_class\": \"simple\",\n",
    "\"limit_price\":\"20\"\n",
    "# \"take_profit\": {\n",
    "# \"limit_price\": data['close'] * 1.05\n",
    "# },\n",
    "# \"stop_loss\": {\n",
    "# \"stop_price\": data['close'] * 0.98,\n",
    "# }\n",
    "}\n",
    "\n",
    "print(data)\n",
    "\n",
    "\n",
    "r = requests.post(ORDERS_URL, json=data, headers=HEADERS)"
   ]
  },
  {
   "cell_type": "code",
   "execution_count": 79,
   "metadata": {},
   "outputs": [],
   "source": [
    "response=json.loads(r.content)\\\n",
    "    "
   ]
  },
  {
   "cell_type": "code",
   "execution_count": 81,
   "metadata": {},
   "outputs": [
    {
     "data": {
      "text/plain": "{'id': '203664dd-ef52-4019-b9ce-2cabb7ef188e',\n 'client_order_id': 'e66565b3-2a6f-4642-9bca-68a364925518',\n 'created_at': '2022-07-03T13:12:01.973240604Z',\n 'updated_at': '2022-07-03T13:12:01.973240604Z',\n 'submitted_at': '2022-07-03T13:12:01.971978044Z',\n 'filled_at': None,\n 'expired_at': None,\n 'canceled_at': None,\n 'failed_at': None,\n 'replaced_at': None,\n 'replaced_by': None,\n 'replaces': None,\n 'asset_id': 'b0b6dd9d-8b9b-48a9-ba46-b9d54906e415',\n 'symbol': 'AAPL',\n 'asset_class': 'us_equity',\n 'notional': None,\n 'qty': '1',\n 'filled_qty': '0',\n 'filled_avg_price': None,\n 'order_class': 'simple',\n 'order_type': 'limit',\n 'type': 'limit',\n 'side': 'sell',\n 'time_in_force': 'gtc',\n 'limit_price': '20',\n 'stop_price': None,\n 'status': 'accepted',\n 'extended_hours': False,\n 'legs': None,\n 'trail_percent': None,\n 'trail_price': None,\n 'hwm': None,\n 'subtag': None,\n 'source': None}"
     },
     "execution_count": 81,
     "metadata": {},
     "output_type": "execute_result"
    }
   ],
   "source": [
    "response"
   ]
  },
  {
   "cell_type": "code",
   "execution_count": 43,
   "metadata": {},
   "outputs": [],
   "source": [
    "\n",
    "\n",
    "import vectorbt as vbt\n",
    "import pandas as pd\n",
    "# import pandas_ta as ta\n",
    "from datetime import datetime\n",
    "from alpaca_trade_api.rest import REST, TimeFrame\n",
    "\n",
    "alpaca = REST(API_KEY, SECRET_KEY, 'https://paper-api.alpaca.markets')\n"
   ]
  },
  {
   "cell_type": "code",
   "execution_count": null,
   "metadata": {},
   "outputs": [],
   "source": [
    "alpaca.get_account()\n"
   ]
  },
  {
   "cell_type": "code",
   "execution_count": 64,
   "metadata": {},
   "outputs": [
    {
     "data": {
      "text/plain": "'100000'"
     },
     "execution_count": 64,
     "metadata": {},
     "output_type": "execute_result"
    }
   ],
   "source": [
    "alpaca.get_account().cash"
   ]
  },
  {
   "cell_type": "code",
   "execution_count": null,
   "metadata": {},
   "outputs": [],
   "source": [
    "{'id': 'e31b4a15-4f03-4fec-b6d0-5e7f26fa6c6e', 'client_order_id': '9567cd92-d93c-413c-8c14-5ac31db8b0ff', 'created_at': '2022-07-03T10:55:02.746536853Z', 'updated_at': '2022-07-03T10:55:02.746536853Z', 'submitted_at': '2022-07-03T10:55:02.742865913Z', 'filled_at': None, 'expired_at': None, 'canceled_at': None, 'failed_at': None, 'replaced_at': None, 'replaced_by': None, 'replaces': None, 'asset_id': 'b6d1aa75-5c9c-4353-a305-9e2caa1925ab', 'symbol': 'MSFT', 'asset_class': 'us_equity', 'notional': None, 'qty': '1', 'filled_qty': '0', 'filled_avg_price': None, 'order_class': 'simple', 'order_type': 'limit', 'type': 'limit', 'side': 'buy', 'time_in_force': 'gtc', 'limit_price': '2000', 'stop_price': None, 'status': 'accepted', 'extended_hours': False, 'legs': None, 'trail_percent': None, 'trail_price': None, 'hwm': None, 'subtag': None, 'source': None}"
   ]
  },
  {
   "cell_type": "code",
   "execution_count": null,
   "metadata": {},
   "outputs": [],
   "source": [
    "info = client.futures_exchange_info()"
   ]
  },
  {
   "cell_type": "code",
   "execution_count": null,
   "metadata": {},
   "outputs": [],
   "source": [
    "from alpaca_trade_api.rest import REST, TimeFrame\n",
    "api = REST()\n"
   ]
  },
  {
   "cell_type": "code",
   "execution_count": null,
   "metadata": {},
   "outputs": [],
   "source": []
  }
 ],
 "metadata": {
  "kernelspec": {
   "display_name": "Python 3.9.5 64-bit",
   "name": "python395jvsc74a57bd0aee8b7b246df8f9039afb4144a1f6fd8d2ca17a180786b69acc140d282b71a49"
  },
  "language_info": {
   "codemirror_mode": {
    "name": "ipython",
    "version": 3
   },
   "file_extension": ".py",
   "mimetype": "text/x-python",
   "name": "python",
   "nbconvert_exporter": "python",
   "pygments_lexer": "ipython3",
   "version": "3.9.5"
  },
  "metadata": {
   "interpreter": {
    "hash": "aee8b7b246df8f9039afb4144a1f6fd8d2ca17a180786b69acc140d282b71a49"
   }
  },
  "orig_nbformat": 2
 },
 "nbformat": 4,
 "nbformat_minor": 2
}