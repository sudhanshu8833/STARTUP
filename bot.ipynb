{
 "cells": [
  {
   "cell_type": "code",
   "execution_count": 15,
   "metadata": {},
   "outputs": [],
   "source": [
    "import sqlite3\n",
    "\n",
    "conn = sqlite3.connect('db.sqlite3')\n"
   ]
  },
  {
   "cell_type": "code",
   "execution_count": 19,
   "metadata": {},
   "outputs": [],
   "source": [
    "c= conn.cursor()\n",
    "\n",
    "c.execute(\"\"\" CREATE TABLE customers (\n",
    "    first_name text,\n",
    "    last_name text,\n",
    "    email text\n",
    ")\"\"\")\n",
    "\n",
    "conn.commit()\n",
    "\n",
    "conn.close()"
   ]
  },
  {
   "cell_type": "code",
   "execution_count": 21,
   "metadata": {},
   "outputs": [],
   "source": [
    "conn = sqlite3.connect('db.sqlite3')\n",
    "c= conn.cursor()\n",
    "\n",
    "c.execute(\"INSERT INTO customers VALUES ('john','singh','john@gmail.com')\")\n",
    "\n",
    "\n",
    "conn.commit()\n",
    "\n",
    "conn.close()"
   ]
  },
  {
   "cell_type": "code",
   "execution_count": 6,
   "metadata": {},
   "outputs": [],
   "source": [
    "conn = sqlite3.connect('db.sqlite3')\n",
    "c= conn.cursor()\n",
    "\n",
    "manycustomers=[\n",
    "    ('Wes','brown','g@gmail.com'),\n",
    "    ('larry','brown','g@gmail.com'),\n",
    "]\n",
    "\n",
    "c.executemany(\"INSERT INTO customers VALUES (?,?,?)\",manycustomers)\n",
    "\n",
    "\n",
    "conn.commit()\n",
    "\n",
    "conn.close()"
   ]
  },
  {
   "cell_type": "code",
   "execution_count": 4,
   "metadata": {},
   "outputs": [],
   "source": [
    "import sqlite3\n",
    "conn = sqlite3.connect('db.sqlite3')\n",
    "c= conn.cursor()\n",
    "\n",
    "c.execute(\"SELECT * FROM shop_bot1\")\n",
    "\n",
    "data=c.fetchall()\n",
    "conn.commit()\n",
    "\n",
    "conn.close()"
   ]
  },
  {
   "cell_type": "code",
   "execution_count": 5,
   "metadata": {},
   "outputs": [
    {
     "data": {
      "text/plain": "[(1, '2022-10-26', 'yemaihu2020@gmail.com', 0, 'SOME STRING', 'SOME STRING'),\n (2, '2021-10-27', 'happyvarnit@gmail.com', 0, '1212211', '515151515'),\n (3, '2021-10-27', 'happyvarnit2@gmail.com', 0, 'NONE', 'NONE'),\n (4, '2021-10-28', 'sudhanshu8833@gmail.com', 4, 'NONE', 'NONE'),\n (5, '2021-10-28', 'sajkwe@gmail.com', 0, 'NONE', 'NONE'),\n (6, '2021-10-28', 'sajkwe@gmail.com', 0, 'NONE', 'NONE'),\n (7, '2021-10-28', 'sajkwe@gmail.com', 0, 'NONE', 'NONE'),\n (8, '2021-10-28', 'sajkwe@gmail.com', 0, 'NONE', 'NONE'),\n (9, '2021-10-28', 'sajkwe@gmail.com', 0, 'NONE', 'NONE'),\n (10, '2021-10-28', 'sajkwe@gmail.com', 0, 'NONE', 'NONE'),\n (11, '2021-10-28', '121@gamil.com', 6, 'NONE', 'NONE'),\n (12, '2021-10-29', 'aaaa@gmail.com', 3, 'sdkfjsdklfjksdl', 'sd;lkfsdkfjk')]"
     },
     "execution_count": 5,
     "metadata": {},
     "output_type": "execute_result"
    }
   ],
   "source": [
    "data"
   ]
  },
  {
   "cell_type": "code",
   "execution_count": null,
   "metadata": {},
   "outputs": [],
   "source": []
  }
 ],
 "metadata": {
  "kernelspec": {
   "display_name": "Python 3.9.5 64-bit",
   "name": "python395jvsc74a57bd0aee8b7b246df8f9039afb4144a1f6fd8d2ca17a180786b69acc140d282b71a49"
  },
  "language_info": {
   "codemirror_mode": {
    "name": "ipython",
    "version": 3
   },
   "file_extension": ".py",
   "mimetype": "text/x-python",
   "name": "python",
   "nbconvert_exporter": "python",
   "pygments_lexer": "ipython3",
   "version": "3.9.5"
  },
  "metadata": {
   "interpreter": {
    "hash": "aee8b7b246df8f9039afb4144a1f6fd8d2ca17a180786b69acc140d282b71a49"
   }
  },
  "orig_nbformat": 2
 },
 "nbformat": 4,
 "nbformat_minor": 2
}