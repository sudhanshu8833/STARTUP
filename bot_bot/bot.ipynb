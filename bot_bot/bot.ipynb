{
 "cells": [
  {
   "cell_type": "code",
   "execution_count": 2,
   "metadata": {},
   "outputs": [
    {
     "data": {
      "text/plain": "{'id': 5365452349,\n 'is_bot': True,\n 'first_name': 'algo99',\n 'username': 'algo99_bot',\n 'can_join_groups': True,\n 'can_read_all_group_messages': False,\n 'supports_inline_queries': False}"
     },
     "execution_count": 2,
     "metadata": {},
     "output_type": "execute_result"
    }
   ],
   "source": [
    "import sqlite3\n",
    "\n",
    "conn = sqlite3.connect('../db.sqlite3')\n",
    "\n",
    "from analysis_fun import *\n",
    "\n",
    "import pandas as pd\n",
    "import numpy as np\n",
    "\n",
    "import json\n",
    "import math\n",
    "\n",
    "import traceback\n",
    "from datetime import date\n",
    "import time\n",
    "import sys\n",
    "# local modules\n",
    "from binance.client import Client\n",
    "from binance.enums import *\n",
    "\n",
    "import json \n",
    "import telepot\n",
    "bot = telepot.Bot('5365452349:AAElPqo1y-SHXCVcf7EqGCdZ80P858ouiW0')\n",
    "bot.getMe()"
   ]
  },
  {
   "cell_type": "code",
   "execution_count": 4,
   "metadata": {},
   "outputs": [],
   "source": [
    "\n",
    "c= conn.cursor()\n",
    "\n",
    "c.execute(\"SELECT * FROM shop_orders\")\n",
    "data1=c.fetchall()\n",
    "\n",
    "c.execute(\"SELECT * FROM shop_bot\")\n",
    "data2=c.fetchall()\n",
    "\n"
   ]
  },
  {
   "cell_type": "code",
   "execution_count": 2,
   "metadata": {},
   "outputs": [
    {
     "name": "stdout",
     "output_type": "stream",
     "text": [
      "('sudhanshus883@gmail.com',)\n"
     ]
    },
    {
     "data": {
      "text/plain": "[('rastogivarnit238@gmail.com',)]"
     },
     "execution_count": 2,
     "metadata": {},
     "output_type": "execute_result"
    }
   ],
   "source": [
    "# import sqlite3\n",
    "# conn = sqlite3.connect('../db.sqlite3')\n",
    "# c= conn.cursor()\n",
    "# c.execute(\"SELECT email FROM shop_user1\")\n",
    "# data=c.fetchall()\n",
    "# print(data[0])\n",
    "\n",
    "\n",
    "# c.execute(f\"SELECT email FROM shop_bot1 WHERE email='{data[4][0]}'\")\n",
    "# data=c.fetchall()\n",
    "# data"
   ]
  },
  {
   "cell_type": "code",
   "execution_count": 1,
   "metadata": {},
   "outputs": [
    {
     "ename": "NameError",
     "evalue": "name 'time' is not defined",
     "output_type": "error",
     "traceback": [
      "\u001b[0;31m---------------------------------------------------------------------------\u001b[0m",
      "\u001b[0;31mNameError\u001b[0m                                 Traceback (most recent call last)",
      "\u001b[0;32m<ipython-input-1-69e0e582e176>\u001b[0m in \u001b[0;36m<module>\u001b[0;34m\u001b[0m\n\u001b[0;32m----> 1\u001b[0;31m \u001b[0mtimes\u001b[0m\u001b[0;34m=\u001b[0m\u001b[0mtime\u001b[0m\u001b[0;34m.\u001b[0m\u001b[0mtime\u001b[0m\u001b[0;34m(\u001b[0m\u001b[0;34m)\u001b[0m\u001b[0;34m-\u001b[0m\u001b[0;36m60\u001b[0m\u001b[0;34m*\u001b[0m\u001b[0;36m60\u001b[0m\u001b[0;34m\u001b[0m\u001b[0;34m\u001b[0m\u001b[0m\n\u001b[0m\u001b[1;32m      2\u001b[0m \u001b[0;34m\u001b[0m\u001b[0m\n\u001b[1;32m      3\u001b[0m \u001b[0;32mwhile\u001b[0m \u001b[0;32mTrue\u001b[0m\u001b[0;34m:\u001b[0m\u001b[0;34m\u001b[0m\u001b[0;34m\u001b[0m\u001b[0m\n\u001b[1;32m      4\u001b[0m     \u001b[0;32mtry\u001b[0m\u001b[0;34m:\u001b[0m\u001b[0;34m\u001b[0m\u001b[0;34m\u001b[0m\u001b[0m\n\u001b[1;32m      5\u001b[0m         \u001b[0;32mif\u001b[0m \u001b[0mtime\u001b[0m\u001b[0;34m.\u001b[0m\u001b[0mtime\u001b[0m\u001b[0;34m(\u001b[0m\u001b[0;34m)\u001b[0m\u001b[0;34m>\u001b[0m\u001b[0mtimes\u001b[0m\u001b[0;34m+\u001b[0m\u001b[0;36m60\u001b[0m\u001b[0;34m*\u001b[0m\u001b[0;36m60\u001b[0m\u001b[0;34m:\u001b[0m\u001b[0;34m\u001b[0m\u001b[0;34m\u001b[0m\u001b[0m\n",
      "\u001b[0;31mNameError\u001b[0m: name 'time' is not defined"
     ]
    }
   ],
   "source": [
    "times=time.time()-60*60\n",
    "\n",
    "while True:\n",
    "    try:\n",
    "        if time.time()>times+60*60:\n",
    "            \n",
    "            positions=order_to_position(data1)\n",
    "            total_trades=total_tr(positions)\n",
    "            max_drawdown=Max_draw(positions)\n",
    "            symbols_used=symbols_used_fun(positions)\n",
    "            winning=winnings(positions)\n",
    "            profits=profit(positions)\n",
    "\n",
    "            \n",
    "            for i in range(len(data2)):\n",
    "\n",
    "                c.execute(f\"UPDATE shop_bot SET profits = {profits[i]} WHERE bot_id = {i+1};\")\n",
    "                c.execute(f\"UPDATE shop_bot SET symbols_used = '{string(symbols_used[i])}' WHERE bot_id = {i+1};\")\n",
    "                c.execute(f\"UPDATE shop_bot SET winning = {winning[i]} WHERE bot_id = {i+1};\")\n",
    "                c.execute(f\"UPDATE shop_bot SET total_trades = {total_trades[i]} WHERE bot_id = {i+1};\")\n",
    "                c.execute(f\"UPDATE shop_bot SET max_drawdown = {max_drawdown[i]} WHERE bot_id = {i+1};\")\n",
    "\n",
    "                conn.commit()\n",
    "\n",
    "\n",
    "\n",
    "            c.execute(\"SELECT email FROM shop_user1\")\n",
    "            data=c.fetchall()\n",
    "\n",
    "            for i in range(len(data)):\n",
    "                bots_owned=[]\n",
    "                c.execute(f\"SELECT email FROM shop_bot1 WHERE email='{data[i][0]}'\")\n",
    "                data4=c.fetchall()\n",
    "\n",
    "                if len(data4)>0:\n",
    "                    bots_owned.append(0)\n",
    "\n",
    "                c.execute(f\"SELECT email FROM shop_bot2 WHERE email='{data[i][0]}'\")\n",
    "                data4=c.fetchall()\n",
    "                if len(data4)>0:\n",
    "                    bots_owned.append(1)\n",
    "\n",
    "                c.execute(f\"SELECT email FROM shop_bot3 WHERE email='{data[i][0]}'\")\n",
    "                data4=c.fetchall()\n",
    "                if len(data4)>0:\n",
    "                    bots_owned.append(2)\n",
    "\n",
    "                c.execute(f\"SELECT email FROM shop_bot4 WHERE email='{data[i][0]}'\")\n",
    "                data4=c.fetchall()\n",
    "                if len(data4)>0:\n",
    "                    bots_owned.append(3)\n",
    "\n",
    "            \n",
    "                print(bots_owned)\n",
    "                if len(bots_owned)==0:\n",
    "                    continue\n",
    "            #########################################################\n",
    "\n",
    "                c.execute(\"SELECT profits FROM shop_bot\")\n",
    "                data4=c.fetchall()\n",
    "                profit=0\n",
    "                for number in bots_owned:\n",
    "                    value=float(data4[number][0])+profit\n",
    "                    profit=value\n",
    "                c.execute(f\"UPDATE shop_user1 SET profits = {profit} WHERE email = '{str(data[i][0])}';\")\n",
    "\n",
    "            ###################################################\n",
    "\n",
    "                c.execute(\"SELECT winning FROM shop_bot\")\n",
    "                data4=c.fetchall()\n",
    "\n",
    "                winning=0\n",
    "                for number in bots_owned:\n",
    "                    value=float(data4[number][0])+profit\n",
    "                    winning=value\n",
    "                winning=winning/len(bots_owned)\n",
    "                c.execute(f\"UPDATE shop_user1 SET winning = {profit} WHERE email = '{str(data[i][0])}';\")\n",
    "\n",
    "            ##################################################\n",
    "                positions=order_to_position(data1)\n",
    "                symbols_used=symbols_used_fun(positions)\n",
    "\n",
    "                dicts=[]\n",
    "                for i in range(len(bots_owned)):\n",
    "                    dicts.append(symbols_used[bots_owned[i]])\n",
    "\n",
    "                dic={}\n",
    "                exempt=[]\n",
    "\n",
    "                for d in dicts:\n",
    "                    for k,v in d.items():\n",
    "                        \n",
    "                        if k not in exempt:\n",
    "                            dic[k]=[]\n",
    "                        dic[k].append(v)\n",
    "                        exempt.append(k)\n",
    "\n",
    "                diction={}\n",
    "                for k,v in dic.items():\n",
    "                    diction[k]=sum(dic[k])\n",
    "                c.execute(f\"UPDATE shop_user1 SET symbols_used = '{string(diction)}' WHERE email = '{str(data[i][0])}';\")\n",
    "            print('completed')\n",
    "            # times=time.time()\n",
    "\n",
    "            \n",
    "\n",
    "    except Exception as e:\n",
    "        bot.sendMessage(1039725953, str(traceback.format_exc()))"
   ]
  },
  {
   "cell_type": "code",
   "execution_count": null,
   "metadata": {},
   "outputs": [],
   "source": []
  }
 ],
 "metadata": {
  "kernelspec": {
   "display_name": "Python 3.9.5 64-bit",
   "name": "python395jvsc74a57bd0aee8b7b246df8f9039afb4144a1f6fd8d2ca17a180786b69acc140d282b71a49"
  },
  "language_info": {
   "codemirror_mode": {
    "name": "ipython",
    "version": 3
   },
   "file_extension": ".py",
   "mimetype": "text/x-python",
   "name": "python",
   "nbconvert_exporter": "python",
   "pygments_lexer": "ipython3",
   "version": "3.9.5"
  },
  "metadata": {
   "interpreter": {
    "hash": "aee8b7b246df8f9039afb4144a1f6fd8d2ca17a180786b69acc140d282b71a49"
   }
  },
  "orig_nbformat": 2
 },
 "nbformat": 4,
 "nbformat_minor": 2
}